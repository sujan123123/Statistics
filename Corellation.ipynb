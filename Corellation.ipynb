{
  "nbformat": 4,
  "nbformat_minor": 0,
  "metadata": {
    "colab": {
      "name": "Untitled10.ipynb",
      "provenance": [],
      "authorship_tag": "ABX9TyOM88HUh+ggciQ2GZ1F6El+",
      "include_colab_link": true
    },
    "kernelspec": {
      "name": "python3",
      "display_name": "Python 3"
    }
  },
  "cells": [
    {
      "cell_type": "markdown",
      "metadata": {
        "id": "view-in-github",
        "colab_type": "text"
      },
      "source": [
        "<a href=\"https://colab.research.google.com/github/sujan123123/Statistics/blob/master/Corellation.ipynb\" target=\"_parent\"><img src=\"https://colab.research.google.com/assets/colab-badge.svg\" alt=\"Open In Colab\"/></a>"
      ]
    },
    {
      "cell_type": "code",
      "metadata": {
        "id": "jiGS4TVxwubO",
        "colab_type": "code",
        "colab": {
          "base_uri": "https://localhost:8080/",
          "height": 34
        },
        "outputId": "449f5e47-285d-46c0-eb31-c9cba358964d"
      },
      "source": [
        "# calculate the spearmans's correlation between two variables\n",
        "from numpy.random import randn\n",
        "from numpy.random import seed\n",
        "from scipy.stats import spearmanr\n",
        "# seed random number generator\n",
        "seed(1)\n",
        "# prepare data\n",
        "data1 = 20 * randn(1000) + 100\n",
        "data2 = data1 + (10 * randn(1000) + 50)\n",
        "# calculate spearman's correlation\n",
        "corr, _ = spearmanr(data1, data2)\n",
        "print('Spearmans correlation: %.3f' % corr)"
      ],
      "execution_count": 1,
      "outputs": [
        {
          "output_type": "stream",
          "text": [
            "Spearmans correlation: 0.872\n"
          ],
          "name": "stdout"
        }
      ]
    },
    {
      "cell_type": "code",
      "metadata": {
        "id": "kmcmiseZwwwy",
        "colab_type": "code",
        "colab": {
          "base_uri": "https://localhost:8080/",
          "height": 34
        },
        "outputId": "0d2a8bdd-c1b0-41c8-cd4c-259e9b663225"
      },
      "source": [
        "from numpy.random import randn\n",
        "from numpy.random import seed\n",
        "from scipy.stats import pearsonr\n",
        "# seed random number generator\n",
        "seed(1)\n",
        "# prepare data\n",
        "data1 = 20 * randn(1000) + 100\n",
        "data2 = data1 + (10 * randn(1000) + 50)\n",
        "# calculate Pearson's correlation\n",
        "corr, _ = pearsonr(data1, data2)\n",
        "print('Pearsons correlation: %.3f' % corr)"
      ],
      "execution_count": 2,
      "outputs": [
        {
          "output_type": "stream",
          "text": [
            "Pearsons correlation: 0.888\n"
          ],
          "name": "stdout"
        }
      ]
    },
    {
      "cell_type": "code",
      "metadata": {
        "id": "2GjNGULqw007",
        "colab_type": "code",
        "colab": {}
      },
      "source": [
        ""
      ],
      "execution_count": null,
      "outputs": []
    }
  ]
}